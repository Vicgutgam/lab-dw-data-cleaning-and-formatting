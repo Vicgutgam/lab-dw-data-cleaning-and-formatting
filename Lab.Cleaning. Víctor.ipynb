{
 "cells": [
  {
   "cell_type": "markdown",
   "id": "1da52e1b",
   "metadata": {},
   "source": [
    "Lab | Data Cleaning and Formatting\n",
    "In this lab, we will be working with the customer data from an insurance company, which can be found in the CSV file located at the following link: https://raw.githubusercontent.com/data-bootcamp-v4/data/main/file1.csv\n",
    "\n",
    "Challenge 1: Data Cleaning and Formatting\n",
    "Exercise 1: Cleaning Column Names\n",
    "To ensure consistency and ease of use, standardize the column names of the dataframe. Start by taking a first look at the dataframe and identifying any column names that need to be modified. Use appropriate naming conventions and make sure that column names are descriptive and informative.\n",
    "\n",
    "Hint:\n",
    "\n",
    "Column names should be in lower case\n",
    "White spaces in column names should be replaced by _\n",
    "st could be replaced for state"
   ]
  },
  {
   "cell_type": "code",
   "execution_count": 1,
   "id": "d882faf9",
   "metadata": {},
   "outputs": [],
   "source": [
    "data='https://raw.githubusercontent.com/data-bootcamp-v4/data/main/file1.csv'\n",
    "import pandas as pd\n",
    "df = pd.read_csv(data)\n",
    "dfcopy= df\n",
    "dfcopy.columns=dfcopy.columns.str.lower().str.replace(\" \",\"_\")"
   ]
  },
  {
   "cell_type": "code",
   "execution_count": 2,
   "id": "9365f405",
   "metadata": {},
   "outputs": [
    {
     "data": {
      "text/plain": [
       "Index(['customer', 'st', 'gender', 'education', 'customer_lifetime_value',\n",
       "       'income', 'monthly_premium_auto', 'number_of_open_complaints',\n",
       "       'policy_type', 'vehicle_class', 'total_claim_amount'],\n",
       "      dtype='object')"
      ]
     },
     "execution_count": 2,
     "metadata": {},
     "output_type": "execute_result"
    }
   ],
   "source": [
    "dfcopy.columns"
   ]
  },
  {
   "cell_type": "code",
   "execution_count": 3,
   "id": "c13431b3",
   "metadata": {},
   "outputs": [
    {
     "name": "stdout",
     "output_type": "stream",
     "text": [
      "<class 'pandas.core.frame.DataFrame'>\n",
      "RangeIndex: 4008 entries, 0 to 4007\n",
      "Data columns (total 11 columns):\n",
      " #   Column                     Non-Null Count  Dtype  \n",
      "---  ------                     --------------  -----  \n",
      " 0   customer                   1071 non-null   object \n",
      " 1   st                         1071 non-null   object \n",
      " 2   gender                     954 non-null    object \n",
      " 3   education                  1071 non-null   object \n",
      " 4   customer_lifetime_value    1068 non-null   object \n",
      " 5   income                     1071 non-null   float64\n",
      " 6   monthly_premium_auto       1071 non-null   float64\n",
      " 7   number_of_open_complaints  1071 non-null   object \n",
      " 8   policy_type                1071 non-null   object \n",
      " 9   vehicle_class              1071 non-null   object \n",
      " 10  total_claim_amount         1071 non-null   float64\n",
      "dtypes: float64(3), object(8)\n",
      "memory usage: 344.6+ KB\n"
     ]
    }
   ],
   "source": [
    "dfcopy.info()"
   ]
  },
  {
   "cell_type": "markdown",
   "id": "722b4a92",
   "metadata": {},
   "source": [
    "Exercise 2: Cleaning invalid Values\n",
    "The dataset contains columns with inconsistent and incorrect values that could affect the accuracy of our analysis. Therefore, we need to clean these columns to ensure that they only contain valid data.\n",
    "\n",
    "Note that this exercise will focus only on cleaning inconsistent values and will not involve handling null values (NaN or None).\n",
    "\n",
    "Hint:\n",
    "\n",
    "Gender column contains various inconsistent values such as \"F\", \"M\", \"Femal\", \"Male\", \"female\", which need to be standardized, for example, to \"M\" and \"F\".\n",
    "State abbreviations be can replaced with its full name, for example \"AZ\": \"Arizona\", \"Cali\": \"California\", \"WA\": \"Washington\"\n",
    "In education, \"Bachelors\" could be replaced by \"Bachelor\"\n",
    "In Customer Lifetime Value, delete the % character\n",
    "In vehicle class, \"Sports Car\", \"Luxury SUV\" and \"Luxury Car\" could be replaced by \"Luxury\""
   ]
  },
  {
   "cell_type": "code",
   "execution_count": 4,
   "id": "95526f04",
   "metadata": {},
   "outputs": [],
   "source": [
    "dfcopy['gender'].replace(('Femal','female'), 'F',inplace=True)\n",
    "dfcopy['gender'].replace('Male', 'M',inplace=True)"
   ]
  },
  {
   "cell_type": "code",
   "execution_count": 5,
   "id": "224e5300",
   "metadata": {},
   "outputs": [],
   "source": [
    "dfcopy.rename(columns={\"st\": \"state\"}, inplace = True)"
   ]
  },
  {
   "cell_type": "code",
   "execution_count": 11,
   "id": "b92b7f72",
   "metadata": {},
   "outputs": [],
   "source": [
    "\n",
    "estados = {\"Oregon\":\"Oregon\",\"Nevada\":\"Nevada\",\"AZ\":\"Arizona\",\"Arizona\":\"Arizona\",\"California\":\"California\",\"Washington\":\"Washington\", \"Cali\": \"California\", \"WA\":\"Washington\"}\n",
    "dfcopy[\"state\"] = dfcopy[\"state\"].map(estados)\n",
    "\n",
    "dfcopy['education'].replace('Bachelors', 'Bachelor', inplace=True)\n",
    "dfcopy['vehicle_class'].replace((\"Sports Car\", \"Luxury SUV\" , \"Luxury Car\"), 'Luxury',inplace=True)"
   ]
  },
  {
   "cell_type": "code",
   "execution_count": 12,
   "id": "c4904a38",
   "metadata": {},
   "outputs": [
    {
     "data": {
      "text/plain": [
       "state\n",
       "California    331\n",
       "Oregon        320\n",
       "Arizona       211\n",
       "Washington    111\n",
       "Nevada         98\n",
       "Name: count, dtype: int64"
      ]
     },
     "execution_count": 12,
     "metadata": {},
     "output_type": "execute_result"
    }
   ],
   "source": [
    "dfcopy['state'].value_counts()"
   ]
  },
  {
   "cell_type": "markdown",
   "id": "32c345e6",
   "metadata": {},
   "source": [
    "Exercise 3: Formatting data types\n",
    "The data types of many columns in the dataset appear to be incorrect. This could impact the accuracy of our analysis. To ensure accurate analysis, we need to correct the data types of these columns. Please update the data types of the columns as appropriate.\n",
    "\n",
    "It is important to note that this exercise does not involve handling null values (NaN or None).\n",
    "\n",
    "Hint:\n",
    "\n",
    "Customer lifetime value should be numeric\n",
    "Number of open complaints has an incorrect format. Look at the different values it takes with unique() and take the middle value. As an example, 1/5/00 should be 5. Number of open complaints is a string - remember you can use split() to deal with it and take the number you need. Finally, since it should be numeric, cast the column to be in its proper type."
   ]
  },
  {
   "cell_type": "code",
   "execution_count": 13,
   "id": "1783a688",
   "metadata": {},
   "outputs": [],
   "source": [
    "#Esto lo pide en el ejercicio 5 pero si lo aplico ahora mismo el resultado y la limpieza del mismo será más eficiente.\n",
    "dfcopy.dropna(how='all', inplace=True)"
   ]
  },
  {
   "cell_type": "code",
   "execution_count": 14,
   "id": "2292180b",
   "metadata": {},
   "outputs": [],
   "source": [
    "dfcopy[\"customer_lifetime_value\"] = dfcopy[\"customer_lifetime_value\"].str.replace(\"%\", \"\")"
   ]
  },
  {
   "cell_type": "code",
   "execution_count": 15,
   "id": "8845c4e8",
   "metadata": {},
   "outputs": [
    {
     "data": {
      "text/plain": [
       "0             NaN\n",
       "1        697954.0\n",
       "2       1288743.0\n",
       "3        764586.0\n",
       "4        536308.0\n",
       "          ...    \n",
       "1066     305955.0\n",
       "1067    2031500.0\n",
       "1068     323912.0\n",
       "1069     462680.0\n",
       "1070     899704.0\n",
       "Name: customer_lifetime_value, Length: 1071, dtype: float64"
      ]
     },
     "execution_count": 15,
     "metadata": {},
     "output_type": "execute_result"
    }
   ],
   "source": [
    "dfcopy['customer_lifetime_value'].astype('float').round()\n",
    "dfcopy['customer_lifetime_value']=dfcopy['customer_lifetime_value'].astype('float').round()\n",
    "dfcopy['customer_lifetime_value']"
   ]
  },
  {
   "cell_type": "code",
   "execution_count": 62,
   "id": "178839dc",
   "metadata": {},
   "outputs": [],
   "source": [
    "remplazo_fechas ={'1/0/00': 0, '1/2/00': 2, '1/1/00': 1, '1/3/00': 3, '1/5/00': 5, '1/4/00': 4}\n",
    "dfcopy[\"number_of_open_complaints\"] = dfcopy[\"number_of_open_complaints\"].map(remplazo_fechas)\n",
    "\n"
   ]
  },
  {
   "cell_type": "code",
   "execution_count": 63,
   "id": "95b87613",
   "metadata": {},
   "outputs": [
    {
     "data": {
      "text/plain": [
       "number_of_open_complaints\n",
       "0    830\n",
       "1    138\n",
       "2     50\n",
       "3     34\n",
       "4     13\n",
       "5      6\n",
       "Name: count, dtype: int64"
      ]
     },
     "execution_count": 63,
     "metadata": {},
     "output_type": "execute_result"
    }
   ],
   "source": [
    "dfcopy['number_of_open_complaints'].value_counts()"
   ]
  },
  {
   "cell_type": "markdown",
   "id": "337627b7",
   "metadata": {},
   "source": [
    "Exercise 4: Dealing with Null values\n",
    "Identify any columns with null or missing values. Identify how many null values each column has. You can use the isnull() function in pandas to find columns with null values.\n",
    "\n",
    "Decide on a strategy for handling the null values. There are several options, including:\n",
    "\n",
    "Drop the rows or columns with null values\n",
    "Fill the null values with a specific value (such as the column mean or median for numerical variables, and mode for categorical variables)\n",
    "Fill the null values with the previous or next value in the column\n",
    "Fill the null values based on a more complex algorithm or model (note: we haven't covered this yet)\n",
    "Implement your chosen strategy to handle the null values. You can use the fillna() function in pandas to fill null values or dropna() function to drop null values.\n",
    "\n",
    "Verify that your strategy has successfully handled the null values. You can use the isnull() function again to check if there are still null values in the dataset.\n",
    "\n",
    "Remember to document your process and explain your reasoning for choosing a particular strategy for handling null values.\n",
    "\n",
    "After formatting data types, as a last step, convert all the numeric variables to integers."
   ]
  },
  {
   "cell_type": "code",
   "execution_count": 23,
   "id": "cc3bf152",
   "metadata": {},
   "outputs": [
    {
     "data": {
      "text/plain": [
       "customer                     0\n",
       "state                        0\n",
       "gender                       0\n",
       "education                    0\n",
       "customer_lifetime_value      0\n",
       "income                       0\n",
       "monthly_premium_auto         0\n",
       "number_of_open_complaints    0\n",
       "policy_type                  0\n",
       "vehicle_class                0\n",
       "total_claim_amount           0\n",
       "dtype: int64"
      ]
     },
     "execution_count": 23,
     "metadata": {},
     "output_type": "execute_result"
    }
   ],
   "source": [
    "dfcopy.isnull().sum()"
   ]
  },
  {
   "cell_type": "code",
   "execution_count": 17,
   "id": "08828e7a",
   "metadata": {},
   "outputs": [],
   "source": [
    "moda_cliente=dfcopy['customer_lifetime_value'].mean().round()\n",
    "dfcopy['customer_lifetime_value'].fillna(moda_cliente, inplace=True)"
   ]
  },
  {
   "cell_type": "code",
   "execution_count": 18,
   "id": "015f3d88",
   "metadata": {},
   "outputs": [
    {
     "data": {
      "text/plain": [
       "0"
      ]
     },
     "execution_count": 18,
     "metadata": {},
     "output_type": "execute_result"
    }
   ],
   "source": [
    "dfcopy['customer_lifetime_value'].isnull().sum()"
   ]
  },
  {
   "cell_type": "code",
   "execution_count": 22,
   "id": "d8d93f05",
   "metadata": {},
   "outputs": [],
   "source": [
    "dfcopy['gender'].mode()\n",
    "dfcopy['gender'].fillna('F', inplace=True)"
   ]
  },
  {
   "cell_type": "markdown",
   "id": "139df158",
   "metadata": {},
   "source": [
    "Exercise 5: Dealing with duplicates\n",
    "Use the .duplicated() method to identify any duplicate rows in the dataframe.\n",
    "\n",
    "Decide on a strategy for handling the duplicates. Options include:\n",
    "\n",
    "Dropping all duplicate rows\n",
    "Keeping only the first occurrence of each duplicated row\n",
    "Keeping only the last occurrence of each duplicated row\n",
    "Dropping duplicates based on a subset of columns\n",
    "Dropping duplicates based on a specific column\n",
    "Implement your chosen strategy using the drop_duplicates() function.\n",
    "\n",
    "Verify that your strategy has successfully handled the duplicates by checking for duplicates again using .duplicated().\n",
    "\n",
    "Remember to document your process and explain your reasoning for choosing a particular strategy for handling duplicates.\n",
    "\n",
    "Save the cleaned dataset to a new CSV file.\n",
    "\n",
    "Hint: after dropping duplicates, reset the index to ensure consistency."
   ]
  },
  {
   "cell_type": "code",
   "execution_count": 24,
   "id": "7ceb704d",
   "metadata": {},
   "outputs": [
    {
     "data": {
      "text/html": [
       "<div>\n",
       "<style scoped>\n",
       "    .dataframe tbody tr th:only-of-type {\n",
       "        vertical-align: middle;\n",
       "    }\n",
       "\n",
       "    .dataframe tbody tr th {\n",
       "        vertical-align: top;\n",
       "    }\n",
       "\n",
       "    .dataframe thead th {\n",
       "        text-align: right;\n",
       "    }\n",
       "</style>\n",
       "<table border=\"1\" class=\"dataframe\">\n",
       "  <thead>\n",
       "    <tr style=\"text-align: right;\">\n",
       "      <th></th>\n",
       "      <th>customer</th>\n",
       "      <th>state</th>\n",
       "      <th>gender</th>\n",
       "      <th>education</th>\n",
       "      <th>customer_lifetime_value</th>\n",
       "      <th>income</th>\n",
       "      <th>monthly_premium_auto</th>\n",
       "      <th>number_of_open_complaints</th>\n",
       "      <th>policy_type</th>\n",
       "      <th>vehicle_class</th>\n",
       "      <th>total_claim_amount</th>\n",
       "    </tr>\n",
       "  </thead>\n",
       "  <tbody>\n",
       "  </tbody>\n",
       "</table>\n",
       "</div>"
      ],
      "text/plain": [
       "Empty DataFrame\n",
       "Columns: [customer, state, gender, education, customer_lifetime_value, income, monthly_premium_auto, number_of_open_complaints, policy_type, vehicle_class, total_claim_amount]\n",
       "Index: []"
      ]
     },
     "execution_count": 24,
     "metadata": {},
     "output_type": "execute_result"
    }
   ],
   "source": [
    "#En primer lugar he revisado si hay algún asiento duplicado en general, aunque anteriormente ya elimine los asientos vacíos.\n",
    "#Después compruebo si hay algún cliente con el mismo nombre para saber si hay duplicados de clientes. \n",
    "#Como no sale ningún resultado, doy por hecho de que ya no queda ningún duplicado después\n",
    "\n",
    "dfcopy.duplicated().sum()\n",
    "dfcopy[dfcopy['customer'].duplicated(keep=False)]"
   ]
  },
  {
   "cell_type": "code",
   "execution_count": 27,
   "id": "eee0e830",
   "metadata": {},
   "outputs": [],
   "source": [
    "dfcopy.to_csv('lab-limpieza-fin.csv', index=False)"
   ]
  },
  {
   "cell_type": "markdown",
   "id": "a009b3fb",
   "metadata": {},
   "source": []
  }
 ],
 "metadata": {
  "kernelspec": {
   "display_name": "Python 3 (ipykernel)",
   "language": "python",
   "name": "python3"
  },
  "language_info": {
   "codemirror_mode": {
    "name": "ipython",
    "version": 3
   },
   "file_extension": ".py",
   "mimetype": "text/x-python",
   "name": "python",
   "nbconvert_exporter": "python",
   "pygments_lexer": "ipython3",
   "version": "3.11.5"
  }
 },
 "nbformat": 4,
 "nbformat_minor": 5
}
